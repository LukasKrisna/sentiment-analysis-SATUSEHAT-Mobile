{
  "nbformat": 4,
  "nbformat_minor": 0,
  "metadata": {
    "colab": {
      "provenance": []
    },
    "kernelspec": {
      "name": "python3",
      "display_name": "Python 3"
    },
    "language_info": {
      "name": "python"
    }
  },
  "cells": [
    {
      "cell_type": "markdown",
      "source": [
        "## Import library"
      ],
      "metadata": {
        "id": "CRZ1zB8dsD3d"
      }
    },
    {
      "cell_type": "code",
      "execution_count": 2,
      "metadata": {
        "id": "MKw31OBcoStE"
      },
      "outputs": [],
      "source": [
        "from joblib import load\n",
        "import numpy as np\n",
        "import tensorflow as tf\n",
        "from keras.preprocessing.sequence import pad_sequences\n",
        "import warnings\n",
        "warnings.filterwarnings(\"ignore\")"
      ]
    },
    {
      "cell_type": "markdown",
      "source": [
        "## Load model"
      ],
      "metadata": {
        "id": "PETiJPjOsIJy"
      }
    },
    {
      "cell_type": "code",
      "source": [
        "lstm_model = tf.keras.models.load_model(\"lstm_sentiment_model.h5\")\n",
        "rf_model = load(\"rf_sentiment_model.joblib\")\n",
        "svm_model = load(\"svm_sentiment_model.joblib\")\n",
        "vectorizer = load(\"tfidf_vectorizer.joblib\")\n",
        "tokenizer = load(\"sequence_tokenizer.joblib\")"
      ],
      "metadata": {
        "colab": {
          "base_uri": "https://localhost:8080/"
        },
        "id": "ISR-bBbFpM0M",
        "outputId": "f40daa31-ec75-4ca3-c836-b9e4128b344e"
      },
      "execution_count": 6,
      "outputs": [
        {
          "output_type": "stream",
          "name": "stderr",
          "text": [
            "WARNING:absl:Compiled the loaded model, but the compiled metrics have yet to be built. `model.compile_metrics` will be empty until you train or evaluate the model.\n"
          ]
        }
      ]
    },
    {
      "cell_type": "markdown",
      "source": [
        "## Preprocessing new_reviews"
      ],
      "metadata": {
        "id": "OmzD_UBrsQxY"
      }
    },
    {
      "cell_type": "code",
      "source": [
        "new_reviews = [\n",
        "    \"Oke banget aplikasi sangat bermanfaat di saat kondisi saat ini\",\n",
        "    \"Aplikasi sangat lambat dan mengecewakan.\",\n",
        "    \"Membantu tapi kadang sertifikat tidak muncul.\"\n",
        "]\n",
        "\n",
        "new_sequences = tokenizer.texts_to_sequences(new_reviews)\n",
        "\n",
        "new_padded = pad_sequences(new_sequences, maxlen=100)\n",
        "\n",
        "new_tfidf = vectorizer.transform(new_reviews)"
      ],
      "metadata": {
        "id": "suVR4Fx7pi_V"
      },
      "execution_count": 16,
      "outputs": []
    },
    {
      "cell_type": "markdown",
      "source": [
        "## Predict"
      ],
      "metadata": {
        "id": "XCZUEXeEswX3"
      }
    },
    {
      "cell_type": "code",
      "source": [
        "lstm_preds = np.argmax(lstm_model.predict(new_padded), axis=1)\n",
        "\n",
        "rf_preds = rf_model.predict(new_tfidf)\n",
        "\n",
        "svm_preds = svm_model.predict(new_tfidf)"
      ],
      "metadata": {
        "colab": {
          "base_uri": "https://localhost:8080/"
        },
        "id": "CmbcsRd0qdUj",
        "outputId": "aab19779-e8d8-4b43-b306-bdfd9b37cf00"
      },
      "execution_count": 17,
      "outputs": [
        {
          "output_type": "stream",
          "name": "stdout",
          "text": [
            "\u001b[1m1/1\u001b[0m \u001b[32m━━━━━━━━━━━━━━━━━━━━\u001b[0m\u001b[37m\u001b[0m \u001b[1m0s\u001b[0m 29ms/step\n"
          ]
        }
      ]
    },
    {
      "cell_type": "markdown",
      "source": [
        "## Display result"
      ],
      "metadata": {
        "id": "F4MU4gJZsz79"
      }
    },
    {
      "cell_type": "code",
      "source": [
        "label_map = {0: \"negative\", 1: \"neutral\", 2: \"positive\"}\n",
        "\n",
        "for i, text in enumerate(new_reviews):\n",
        "    print(f\"Review: {text}\")\n",
        "    print(f\"LSTM Prediction: {label_map[lstm_preds[i]]}\")\n",
        "    print(f\"Random Forest Prediction: {label_map[rf_preds[i]]}\")\n",
        "    print(f\"SVM Prediction: {label_map[svm_preds[i]]}\")\n",
        "    print(\"-\" * 50)"
      ],
      "metadata": {
        "colab": {
          "base_uri": "https://localhost:8080/"
        },
        "id": "LJpsplUaqoeK",
        "outputId": "522d9aee-0fd1-46f1-a1b2-3e16457cfb34"
      },
      "execution_count": 20,
      "outputs": [
        {
          "output_type": "stream",
          "name": "stdout",
          "text": [
            "Review: Oke banget aplikasi sangat bermanfaat di saat kondisi saat ini\n",
            "LSTM Prediction: positive\n",
            "Random Forest Prediction: positive\n",
            "SVM Prediction: positive\n",
            "--------------------------------------------------\n",
            "Review: Aplikasi sangat lambat dan mengecewakan.\n",
            "LSTM Prediction: negative\n",
            "Random Forest Prediction: negative\n",
            "SVM Prediction: negative\n",
            "--------------------------------------------------\n",
            "Review: Membantu tapi kadang sertifikat tidak muncul.\n",
            "LSTM Prediction: positive\n",
            "Random Forest Prediction: negative\n",
            "SVM Prediction: positive\n",
            "--------------------------------------------------\n"
          ]
        }
      ]
    }
  ]
}